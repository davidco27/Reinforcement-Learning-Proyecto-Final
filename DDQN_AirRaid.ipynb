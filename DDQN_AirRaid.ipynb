{
 "cells": [
  {
   "cell_type": "code",
   "execution_count": 1,
   "id": "310cc18e",
   "metadata": {},
   "outputs": [
    {
     "name": "stderr",
     "output_type": "stream",
     "text": [
      "c:\\Users\\raul\\.conda\\envs\\noestructurados\\Lib\\site-packages\\tqdm\\auto.py:21: TqdmWarning: IProgress not found. Please update jupyter and ipywidgets. See https://ipywidgets.readthedocs.io/en/stable/user_install.html\n",
      "  from .autonotebook import tqdm as notebook_tqdm\n"
     ]
    }
   ],
   "source": [
    "# Common imports\n",
    "import numpy as np\n",
    "import os\n",
    "import optuna"
   ]
  },
  {
   "cell_type": "code",
   "execution_count": 2,
   "id": "cdc51fb5",
   "metadata": {},
   "outputs": [],
   "source": [
    "# To plot pretty figures\n",
    "%matplotlib inline\n",
    "import matplotlib as mpl\n",
    "import matplotlib.pyplot as plt\n",
    "mpl.rc('axes', labelsize=14)\n",
    "mpl.rc('xtick', labelsize=12)\n",
    "mpl.rc('ytick', labelsize=12)\n",
    "\n",
    "# To get smooth animations\n",
    "import matplotlib.animation as animation\n",
    "mpl.rc('animation', html='jshtml')"
   ]
  },
  {
   "cell_type": "code",
   "execution_count": 3,
   "id": "da2a35c6",
   "metadata": {},
   "outputs": [],
   "source": [
    "##########  Using gym\n",
    "import gymnasium as gym\n",
    "\n",
    "# Scikit-Learn ≥0.20 is required\n",
    "import sklearn\n",
    "\n",
    "# TensorFlow ≥2.0 is required\n",
    "import tensorflow as tf\n",
    "from tensorflow import keras\n",
    "from stable_baselines3.common.callbacks import BaseCallback\n",
    "from stable_baselines3.common.results_plotter import load_results, ts2xy\n",
    "from stable_baselines3.common.monitor import Monitor\n",
    "\n",
    "# to make this notebook's output stable across runs\n",
    "np.random.seed(42)\n",
    "tf.random.set_seed(42)\n",
    "N_episodios = 250\n",
    "keras.backend.clear_session()\n",
    "tf.random.set_seed(42)\n",
    "np.random.seed(42)\n",
    "\n",
    "from collections import deque\n",
    "\n",
    "replay_memory = deque(maxlen=2000)"
   ]
  },
  {
   "cell_type": "code",
   "execution_count": 8,
   "id": "86dbea17",
   "metadata": {},
   "outputs": [],
   "source": [
    "# Let's build the DQN. \n",
    "# Given a state, it will estimate, for each possible action, the sum of discounted future rewards it can expect after \n",
    "# it plays that action (but before it sees its outcome):\n",
    "class DDQN():\n",
    "    def __init__(self,batch_size= 32, discount_rate=0.5,loss_fn = keras.losses.mean_squared_error,learning_rate=1e-2):\n",
    "        self.best_score = 0\n",
    "        self.batch_size = batch_size\n",
    "        self.discount_rate = discount_rate\n",
    "        self.optimizer = keras.optimizers.Adam(learning_rate=learning_rate)\n",
    "        self.loss_fn = loss_fn\n",
    "\n",
    "\n",
    "\n",
    "        self.model = keras.models.Sequential([\n",
    "        keras.layers.Dense(32, activation=\"elu\", input_shape=input_shape),\n",
    "        keras.layers.Dense(256, activation=\"elu\"),\n",
    "        keras.layers.Dense(1024, activation=\"elu\"),\n",
    "        keras.layers.Dense(256, activation=\"elu\"),\n",
    "        keras.layers.Dense(64, activation=\"elu\"),\n",
    "        keras.layers.Dense(32, activation=\"elu\"),\n",
    "        keras.layers.Flatten(),\n",
    "        keras.layers.Dense(n_outputs)\n",
    "    ])\n",
    "\n",
    "        self.target = keras.models.clone_model(self.model)  # NEW It is a clone of the online model\n",
    "        self.target.set_weights(self.model.get_weights())   # NEW\n",
    "        \n",
    "    def epsilon_greedy_policy(self,state, epsilon):\n",
    "        if np.random.rand() < epsilon:\n",
    "            return np.random.randint(n_outputs)\n",
    "        else:\n",
    "            Q_values = self.model.predict(state[np.newaxis])\n",
    "            #print(\"Q_values\", Q_values)\n",
    "            return np.argmax(Q_values)\n",
    "        \n",
    "    def play_one_step(self,env, state, epsilon):\n",
    "        action = self.epsilon_greedy_policy(state, epsilon)\n",
    "        next_state, reward, done, truncated, info = env.step(action)\n",
    "        replay_memory.append((state, action, reward, next_state, done))\n",
    "        return next_state, reward, done, info\n",
    "    \n",
    "    def sample_experiences(self,batch_size):\n",
    "        indices = np.random.randint(len(replay_memory), size=batch_size)\n",
    "        batch = [replay_memory[index] for index in indices]\n",
    "        states, actions, rewards, next_states, dones = [\n",
    "            np.array([experience[field_index] for experience in batch])\n",
    "            for field_index in range(5)]\n",
    "        return states, actions, rewards, next_states, dones\n",
    "    \n",
    "    def training_step(self,batch_size):\n",
    "        \n",
    "        experiences = self.sample_experiences(batch_size)\n",
    "        states, actions, rewards, next_states, dones = experiences\n",
    "        #next_Q_values = model.predict(next_states)  # ORIGINAL DQN\n",
    "        next_Q_values = self.target.predict(next_states)  # NEW  Using the target model instead the online model \n",
    "        max_next_Q_values = np.max(next_Q_values, axis=1)\n",
    "        target_Q_values = (rewards +\n",
    "                        (1 - dones) * self.discount_rate * max_next_Q_values)\n",
    "        target_Q_values = target_Q_values.reshape(-1, 1)\n",
    "        mask = tf.one_hot(actions, n_outputs)\n",
    "        with tf.GradientTape() as tape:\n",
    "            all_Q_values = self.model(states)   # Use of the online model\n",
    "            Q_values = tf.reduce_sum(all_Q_values * mask, axis=1, keepdims=True)\n",
    "            loss = tf.reduce_mean(self.loss_fn(target_Q_values, Q_values))\n",
    "        grads = tape.gradient(loss, self.model.trainable_variables)\n",
    "        self.optimizer.apply_gradients(zip(grads, self.model.trainable_variables))\n",
    "    def predict(self,obs):\n",
    "        return self.model.predict(obs)\n",
    "    def train(self):\n",
    "        self.rewards = []\n",
    "        \n",
    "        for episode in range(N_episodios):\n",
    "            obs = env.reset() \n",
    "            obs = obs[0]\n",
    "            print(\"Se resetea\")\n",
    "            for step in range(200):\n",
    "                epsilon = max(1 - episode / 500, 0.01)\n",
    "                obs, reward, done, info = self.play_one_step(env, obs, epsilon)\n",
    "                if done:\n",
    "                    break\n",
    "            self.rewards.append(step) # Not shown in the book\n",
    "            if step >= self.best_score: # Not shown\n",
    "                best_weights = self.model.get_weights() # Not shown\n",
    "                self.best_score = step # Not shown\n",
    "            print(\"\\rEpisode: {}, Steps: {}, eps: {:.3f}\".format(episode, step + 1, epsilon), end=\"\") # Not shown\n",
    "            #print(\" Episodio vvvv\", episode)\n",
    "            if episode > 50:\n",
    "                #print(\" batch size vvvv\", batch_size)      \n",
    "                self.training_step(self.batch_size)\n",
    "            if episode % 50 == 0:     ## Updating weights\n",
    "                self.target.set_weights(self.model.get_weights())\n",
    "\n",
    "        self.model.set_weights(best_weights)\n",
    "\n",
    "log_dir = os.path.join(os.getcwd(),'logsDDQN')\n",
    "\n",
    "env = gym.make(\"ALE/AirRaid-v5\",render_mode=\"rgb_array\")\n",
    "env = Monitor(env, log_dir)\n",
    "\n",
    "input_shape =env.observation_space.shape\n",
    "n_outputs = env.action_space.n\n",
    "\n"
   ]
  },
  {
   "cell_type": "code",
   "execution_count": 5,
   "id": "a0fad723",
   "metadata": {},
   "outputs": [],
   "source": [
    "class SaveOnBestTrainingRewardCallback(BaseCallback):\n",
    "    \"\"\"\n",
    "    Callback for saving a model (the check is done every ``check_freq`` steps)\n",
    "    based on the training reward (in practice, we recommend using ``EvalCallback``).\n",
    "\n",
    "    :param check_freq: (int)\n",
    "    :param log_dir: (str) Path to the folder where the model will be saved.\n",
    "      It must contains the file created by the ``Monitor`` wrapper.\n",
    "    :param verbose: (int)\n",
    "    \"\"\"\n",
    "\n",
    "    def __init__(self, check_freq: int, log_dir: str, verbose=1):\n",
    "        super().__init__(verbose)\n",
    "        self.check_freq = check_freq\n",
    "        self.log_dir = log_dir\n",
    "        self.save_path = os.path.join(log_dir, \"best_model\")\n",
    "        self.best_mean_reward = -np.inf\n",
    "\n",
    "    def _init_callback(self) -> None:\n",
    "        # Create folder if needed\n",
    "        if self.save_path is not None:\n",
    "            os.makedirs(self.save_path, exist_ok=True)\n",
    "\n",
    "    def _on_step(self) -> bool:\n",
    "        if self.n_calls % self.check_freq == 0:\n",
    "\n",
    "            # Retrieve training reward\n",
    "            x, y = ts2xy(load_results(self.log_dir), \"timesteps\")\n",
    "            if len(x) > 0:\n",
    "                # Mean training reward over the last 100 episodes\n",
    "                mean_reward = np.mean(y[-100:])\n",
    "                if self.verbose > 0:\n",
    "                    print(f\"Num timesteps: {self.num_timesteps}\")\n",
    "                    print(\n",
    "                        f\"Best mean reward: {self.best_mean_reward:.2f} - Last mean reward per episode: {mean_reward:.2f}\"\n",
    "                    )\n",
    "\n",
    "                # New best model, you could save the agent here\n",
    "                if mean_reward > self.best_mean_reward:\n",
    "                    self.best_mean_reward = mean_reward\n",
    "                    # Example for saving best model\n",
    "                    if self.verbose > 0:\n",
    "                        print(f\"Saving new best model to {self.save_path}.zip\")\n",
    "                    self.model.save(self.save_path)\n",
    "\n",
    "        return True"
   ]
  },
  {
   "cell_type": "code",
   "execution_count": 6,
   "id": "4c513a27",
   "metadata": {},
   "outputs": [],
   "source": [
    "def objective(trial):\n",
    "    # Define los rangos para los parámetros que quieres optimizar\n",
    "    learning_rate = trial.suggest_loguniform('learning_rate', 1e-5, 1e-3)\n",
    "    batch_size = trial.suggest_categorical('batch_size', [16, 32, 64, 128])\n",
    "    discount_rate = trial.suggest_uniform('discount_rate', 0.1, 0.90)\n",
    "\n",
    "    ddqn =DDQN(batch_size=batch_size,discount_rate=discount_rate,learning_rate=learning_rate)\n",
    "    # Define el callback para guardar el mejor modelo\n",
    "    callback = SaveOnBestTrainingRewardCallback(check_freq=1000, log_dir=log_dir)\n",
    "    return ddqn.best_score"
   ]
  },
  {
   "cell_type": "code",
   "execution_count": 9,
   "id": "54887c0d",
   "metadata": {},
   "outputs": [
    {
     "name": "stderr",
     "output_type": "stream",
     "text": [
      "[I 2024-05-08 16:33:40,842] A new study created in memory with name: no-name-5403bd0b-5d35-4eee-b30a-e816bd3675b7\n",
      "C:\\Users\\raul\\AppData\\Local\\Temp\\ipykernel_8148\\3071801666.py:3: FutureWarning: suggest_loguniform has been deprecated in v3.0.0. This feature will be removed in v6.0.0. See https://github.com/optuna/optuna/releases/tag/v3.0.0. Use suggest_float(..., log=True) instead.\n",
      "  learning_rate = trial.suggest_loguniform('learning_rate', 1e-5, 1e-3)\n",
      "C:\\Users\\raul\\AppData\\Local\\Temp\\ipykernel_8148\\3071801666.py:5: FutureWarning: suggest_uniform has been deprecated in v3.0.0. This feature will be removed in v6.0.0. See https://github.com/optuna/optuna/releases/tag/v3.0.0. Use suggest_float instead.\n",
      "  discount_rate = trial.suggest_uniform('discount_rate', 0.1, 0.90)\n"
     ]
    },
    {
     "name": "stdout",
     "output_type": "stream",
     "text": [
      "Model: \"sequential_1\"\n",
      "_________________________________________________________________\n",
      " Layer (type)                Output Shape              Param #   \n",
      "=================================================================\n",
      " dense_7 (Dense)             (None, 250, 160, 32)      128       \n",
      "                                                                 \n",
      " dense_8 (Dense)             (None, 250, 160, 256)     8448      \n",
      "                                                                 \n",
      " dense_9 (Dense)             (None, 250, 160, 1024)    263168    \n",
      "                                                                 \n",
      " dense_10 (Dense)            (None, 250, 160, 256)     262400    \n",
      "                                                                 \n",
      " dense_11 (Dense)            (None, 250, 160, 64)      16448     \n",
      "                                                                 \n",
      " dense_12 (Dense)            (None, 250, 160, 32)      2080      \n",
      "                                                                 \n",
      " flatten_1 (Flatten)         (None, 1280000)           0         \n",
      "                                                                 \n",
      " dense_13 (Dense)            (None, 6)                 7680006   \n",
      "                                                                 \n",
      "=================================================================\n",
      "Total params: 8,232,678\n",
      "Trainable params: 8,232,678\n",
      "Non-trainable params: 0\n",
      "_________________________________________________________________\n"
     ]
    },
    {
     "name": "stderr",
     "output_type": "stream",
     "text": [
      "[I 2024-05-08 16:33:41,579] Trial 0 finished with value: 0.0 and parameters: {'learning_rate': 0.0001183535643047837, 'batch_size': 128, 'discount_rate': 0.25118662932468433}. Best is trial 0 with value: 0.0.\n"
     ]
    },
    {
     "name": "stdout",
     "output_type": "stream",
     "text": [
      "None\n",
      "Model: \"sequential_2\"\n",
      "_________________________________________________________________\n",
      " Layer (type)                Output Shape              Param #   \n",
      "=================================================================\n",
      " dense_14 (Dense)            (None, 250, 160, 32)      128       \n",
      "                                                                 \n",
      " dense_15 (Dense)            (None, 250, 160, 256)     8448      \n",
      "                                                                 \n",
      " dense_16 (Dense)            (None, 250, 160, 1024)    263168    \n",
      "                                                                 \n",
      " dense_17 (Dense)            (None, 250, 160, 256)     262400    \n",
      "                                                                 \n",
      " dense_18 (Dense)            (None, 250, 160, 64)      16448     \n",
      "                                                                 \n",
      " dense_19 (Dense)            (None, 250, 160, 32)      2080      \n",
      "                                                                 \n",
      " flatten_2 (Flatten)         (None, 1280000)           0         \n",
      "                                                                 \n",
      " dense_20 (Dense)            (None, 6)                 7680006   \n",
      "                                                                 \n",
      "=================================================================\n",
      "Total params: 8,232,678\n",
      "Trainable params: 8,232,678\n",
      "Non-trainable params: 0\n",
      "_________________________________________________________________\n"
     ]
    },
    {
     "name": "stderr",
     "output_type": "stream",
     "text": [
      "[I 2024-05-08 16:33:42,280] Trial 1 finished with value: 0.0 and parameters: {'learning_rate': 2.5604953595925908e-05, 'batch_size': 64, 'discount_rate': 0.3694100778182231}. Best is trial 0 with value: 0.0.\n"
     ]
    },
    {
     "name": "stdout",
     "output_type": "stream",
     "text": [
      "None\n",
      "Best trial:\n",
      "Value:  0.0\n",
      "Params: \n"
     ]
    }
   ],
   "source": [
    "study = optuna.create_study(direction='maximize')\n",
    "study.optimize(objective, n_trials=30)\n",
    "\n",
    "print(\"Best trial:\")\n",
    "trial = study.best_trial\n",
    "\n",
    "print(\"Value: \", trial.value)\n",
    "\n",
    "print(\"Params: \")"
   ]
  },
  {
   "cell_type": "markdown",
   "id": "d98f5f88",
   "metadata": {},
   "source": [
    "Con el mejor intento, lo entreno y saco los rewards"
   ]
  },
  {
   "cell_type": "code",
   "execution_count": 10,
   "id": "633876b0",
   "metadata": {},
   "outputs": [
    {
     "data": {
      "text/plain": [
       "{'learning_rate': 0.0001183535643047837,\n",
       " 'batch_size': 128,\n",
       " 'discount_rate': 0.25118662932468433}"
      ]
     },
     "execution_count": 10,
     "metadata": {},
     "output_type": "execute_result"
    }
   ],
   "source": [
    "trial.be"
   ]
  },
  {
   "cell_type": "code",
   "execution_count": 12,
   "id": "738d1d16",
   "metadata": {},
   "outputs": [
    {
     "name": "stdout",
     "output_type": "stream",
     "text": [
      "Model: \"sequential_4\"\n",
      "_________________________________________________________________\n",
      " Layer (type)                Output Shape              Param #   \n",
      "=================================================================\n",
      " dense_28 (Dense)            (None, 250, 160, 32)      128       \n",
      "                                                                 \n",
      " dense_29 (Dense)            (None, 250, 160, 256)     8448      \n",
      "                                                                 \n",
      " dense_30 (Dense)            (None, 250, 160, 1024)    263168    \n",
      "                                                                 \n",
      " dense_31 (Dense)            (None, 250, 160, 256)     262400    \n",
      "                                                                 \n",
      " dense_32 (Dense)            (None, 250, 160, 64)      16448     \n",
      "                                                                 \n",
      " dense_33 (Dense)            (None, 250, 160, 32)      2080      \n",
      "                                                                 \n",
      " flatten_4 (Flatten)         (None, 1280000)           0         \n",
      "                                                                 \n",
      " dense_34 (Dense)            (None, 6)                 7680006   \n",
      "                                                                 \n",
      "=================================================================\n",
      "Total params: 8,232,678\n",
      "Trainable params: 8,232,678\n",
      "Non-trainable params: 0\n",
      "_________________________________________________________________\n",
      "None\n",
      "Se resetea\n",
      "Episode: 0, Steps: 200, eps: 1.000"
     ]
    },
    {
     "data": {
      "image/png": "[encoded data removed]",
      "text/plain": [
       "<Figure size 800x400 with 1 Axes>"
      ]
     },
     "metadata": {},
     "output_type": "display_data"
    }
   ],
   "source": [
    "ddqn =DDQN(batch_size=trial.params['batch_size'],discount_rate=trial.params['discount_rate'],learning_rate=trial.params['learning_rate'])\n",
    "ddqn.train()\n",
    "plt.figure(figsize=(8, 4))\n",
    "plt.plot(ddqn.rewards)\n",
    "plt.xlabel(\"Episode\", fontsize=14)\n",
    "plt.ylabel(\"Sum of rewards\", fontsize=14)\n",
    "plt.show()"
   ]
  },
  {
   "cell_type": "code",
   "execution_count": null,
   "id": "1856ea3f",
   "metadata": {},
   "outputs": [],
   "source": [
    "# Now show the animation:\n",
    "\n",
    "def update_scene(num, frames, patch):\n",
    "    patch.set_data(frames[num])\n",
    "    return patch,\n",
    "\n",
    "def plot_animation(frames, repeat=False, interval=40):\n",
    "    fig = plt.figure()\n",
    "    patch = plt.imshow(frames[0])\n",
    "    plt.axis('off')\n",
    "    anim = animation.FuncAnimation(\n",
    "        fig, update_scene, fargs=(frames, patch),\n",
    "        frames=len(frames), repeat=repeat, interval=interval)\n",
    "    plt.close()\n",
    "    return anim"
   ]
  },
  {
   "cell_type": "code",
   "execution_count": null,
   "id": "9a42cc75",
   "metadata": {},
   "outputs": [],
   "source": [
    "\n",
    "from stable_baselines3.common.vec_env import VecVideoRecorder, DummyVecEnv\n",
    "\n",
    "env_id = \"ALE/AirRaid-v5\"\n",
    "directorio_video = os.path.join(os.getcwd(),'videosDDQN')\n",
    "\n",
    "longitud = 1819\n",
    " \n",
    "vec_env = DummyVecEnv([lambda: gym.make(env_id, render_mode=\"rgb_array\")])\n",
    " \n",
    "obs = vec_env.reset()\n",
    " \n",
    "# Record the video starting at the first step\n",
    "vec_env = VecVideoRecorder(vec_env, directorio_video,\n",
    "                       record_video_trigger=lambda x: x == 0, video_length=longitud,\n",
    "                       name_prefix=f\"agent\")\n",
    "vec_env.reset()\n",
    "for _ in range(longitud + 1):\n",
    "  action, _states = ddqn.predict(obs)\n",
    "  obs, _, _, _ = vec_env.step(action)\n",
    "# Save the video\n",
    "vec_env.close()"
   ]
  },
  {
   "cell_type": "code",
   "execution_count": null,
   "id": "e831f9b9-f859-4071-97c8-dd7edbfb4de4",
   "metadata": {},
   "outputs": [],
   "source": []
  }
 ],
 "metadata": {
  "kernelspec": {
   "display_name": "Python 3 (ipykernel)",
   "language": "python",
   "name": "python3"
  },
  "language_info": {
   "codemirror_mode": {
    "name": "ipython",
    "version": 3
   },
   "file_extension": ".py",
   "mimetype": "text/x-python",
   "name": "python",
   "nbconvert_exporter": "python",
   "pygments_lexer": "ipython3",
   "version": "3.11.7"
  }
 },
 "nbformat": 4,
 "nbformat_minor": 5
}
